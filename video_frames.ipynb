{
 "cells": [
  {
   "attachments": {},
   "cell_type": "markdown",
   "id": "0613d366",
   "metadata": {},
   "source": [
    "Versions\n",
    "\n",
    "torch==1.9.1    \n",
    "torchvision==0.10.1  \n",
    "pip install googletrans==3.1.0a0\n"
   ]
  },
  {
   "cell_type": "code",
   "execution_count": 1,
   "id": "4a04778f",
   "metadata": {},
   "outputs": [
    {
     "name": "stderr",
     "output_type": "stream",
     "text": [
      "/home/mskang/.conda/envs/blip/lib/python3.8/site-packages/tqdm/auto.py:22: TqdmWarning: IProgress not found. Please update jupyter and ipywidgets. See https://ipywidgets.readthedocs.io/en/stable/user_install.html\n",
      "  from .autonotebook import tqdm as notebook_tqdm\n"
     ]
    }
   ],
   "source": [
    "\n",
    "\n",
    "from vlog import (get_text_and_image, similarity, \n",
    "make_video, refine, eliminate_by_peaks,translate, style_transfer, similarity_for_thumbnail,\n",
    "make_dataframe)"
   ]
  },
  {
   "cell_type": "code",
   "execution_count": 2,
   "id": "6cb26f38",
   "metadata": {},
   "outputs": [],
   "source": [
    "vid_dir = '/home/mskang/Vlog/hj/image_captioning/confer/videos/hj'"
   ]
  },
  {
   "cell_type": "code",
   "execution_count": 3,
   "id": "f65c07b5",
   "metadata": {},
   "outputs": [
    {
     "name": "stdout",
     "output_type": "stream",
     "text": [
      "Moviepy - Building video temp.mp4.\n",
      "MoviePy - Writing audio in tempTEMP_MPY_wvf_snd.mp3\n"
     ]
    },
    {
     "name": "stderr",
     "output_type": "stream",
     "text": [
      "                                                                      \r"
     ]
    },
    {
     "name": "stdout",
     "output_type": "stream",
     "text": [
      "MoviePy - Done.\n",
      "Moviepy - Writing video temp.mp4\n",
      "\n"
     ]
    },
    {
     "name": "stderr",
     "output_type": "stream",
     "text": [
      "                                                                 \r"
     ]
    },
    {
     "name": "stdout",
     "output_type": "stream",
     "text": [
      "Moviepy - Done !\n",
      "Moviepy - video ready temp.mp4\n",
      "total_frames : 2562\n",
      "duration : 85.42 seconds\n",
      "frames_per_second : 29 fps\n",
      "sampling frequency : one image per 7.25 frames\n",
      "..............................\n"
     ]
    },
    {
     "name": "stderr",
     "output_type": "stream",
     "text": [
      "100%|██████████| 2562/2562 [00:04<00:00, 562.52it/s]\n"
     ]
    },
    {
     "name": "stdout",
     "output_type": "stream",
     "text": [
      "done\n",
      "load data loader .....        \n",
      "done\n",
      "extracting text ....      "
     ]
    },
    {
     "name": "stderr",
     "output_type": "stream",
     "text": [
      "  0%|          | 0/1 [00:00<?, ?it/s]"
     ]
    },
    {
     "name": "stdout",
     "output_type": "stream",
     "text": [
      "load checkpoint from https://storage.googleapis.com/sfr-vision-language-research/BLIP/models/model_base_capfilt_large.pth\n"
     ]
    },
    {
     "name": "stderr",
     "output_type": "stream",
     "text": [
      "100%|██████████| 1/1 [00:28<00:00, 28.29s/it]"
     ]
    },
    {
     "name": "stdout",
     "output_type": "stream",
     "text": [
      "done\n"
     ]
    },
    {
     "name": "stderr",
     "output_type": "stream",
     "text": [
      "\n"
     ]
    }
   ],
   "source": [
    "result_dict, total_frames, frame_size, PIL_list = get_text_and_image( video_dir = vid_dir,\n",
    "                                                per_sec = 0.25, \n",
    "                                                image_size = 224, \n",
    "                                                batch_size = 256, \n",
    "                                                num_workers = 16, \n",
    "                                                device = 'cuda:0')"
   ]
  },
  {
   "cell_type": "code",
   "execution_count": 4,
   "id": "da5b7251",
   "metadata": {},
   "outputs": [
    {
     "data": {
      "text/plain": [
       "{0: 'an empty subway station',\n",
       " 29: 'a hallway with a yellow line',\n",
       " 58: 'a long yellow line on the floor',\n",
       " 87: 'a yellow line in a subway station',\n",
       " 116: 'a person sitting at a table',\n",
       " 145: 'two people sitting at a table',\n",
       " 203: 'a man sitting at a table writing',\n",
       " 232: 'a person writing at a table',\n",
       " 261: 'a man sitting at a table writing',\n",
       " 290: 'two people wearing masks',\n",
       " 348: 'two people wearing face masks',\n",
       " 377: 'a man wearing a face mask',\n",
       " 522: 'a group of people standing outside',\n",
       " 551: 'a woman holding a cell',\n",
       " 580: 'a man and woman shaking hands',\n",
       " 609: 'a person holding an umbrella',\n",
       " 725: 'two people under an umbrella',\n",
       " 754: 'two women standing under an umbrella',\n",
       " 783: 'two people standing under an umbrella',\n",
       " 812: 'a group of people in a classroom',\n",
       " 1015: 'a group of people in a classroom',\n",
       " 1044: 'a man wearing a face mask',\n",
       " 1102: 'a man wearing a face mask and giving the peace sign',\n",
       " 1131: 'a man wearing a face mask',\n",
       " 1160: 'a man and a woman wearing masks',\n",
       " 1189: 'two people wearing masks',\n",
       " 1218: 'a man wearing a face mask',\n",
       " 1392: 'a person wearing a face mask',\n",
       " 1421: 'a man wearing a face mask',\n",
       " 1508: 'a group of students wearing face masks',\n",
       " 1537: 'a group of people wearing face masks',\n",
       " 1653: 'two students wearing face masks',\n",
       " 1682: 'a group of people wearing face masks',\n",
       " 1711: 'two people wearing masks',\n",
       " 1740: 'two men wearing masks',\n",
       " 1769: 'two people wearing masks',\n",
       " 1827: 'two people wearing face masks',\n",
       " 1856: 'a classroom with students sitting at desks',\n",
       " 1914: 'a classroom full of students',\n",
       " 2001: 'a classroom filled with students',\n",
       " 2030: 'a classroom full of students',\n",
       " 2146: 'a classroom full of students',\n",
       " 2204: 'a laptop on a table',\n",
       " 2233: 'a laptop computer on a table',\n",
       " 2262: 'a group of people in a classroom',\n",
       " 2320: 'two people in a classroom',\n",
       " 2349: 'a person giving a presentation',\n",
       " 2378: 'a group of people in a classroom'}"
      ]
     },
     "execution_count": 4,
     "metadata": {},
     "output_type": "execute_result"
    }
   ],
   "source": [
    "styles = ['formal','android','azae','chat','choding' ,'emoticon' ,'enfp' ,'gentle','halbae' ,'halmae','joongding','king','naruto','seonbi','sosim']\n",
    "refined = refine(result_dict.copy())\n",
    "refined"
   ]
  },
  {
   "cell_type": "code",
   "execution_count": 5,
   "id": "d4e88f6a",
   "metadata": {},
   "outputs": [
    {
     "data": {
      "text/plain": [
       "\"\\nfrom PIL import Image\\nthumbnail_index = list()\\nfor refer in ['reading a book', 'eating food', 'green santa', 'washing hand']:\\n    sims = similarity_for_thumbnail(result_dict, method = 'mean', refer = refer)\\n    thumbnail_index.append(sims.index(max(sims)))\\n\\nthumbnail_list = [PIL_list[i] for i in thumbnail_index]\\nthumbnail = Image.new('RGB', (frame_size[0]*2 , frame_size[1]*2))\\nthumbnail.paste(thumbnail_list[0], (0, 0))\\nthumbnail.paste(thumbnail_list[1], (frame_size[0], 0))\\nthumbnail.paste(thumbnail_list[2], (0, frame_size[1]))\\nthumbnail.paste(thumbnail_list[3], (frame_size[0], frame_size[1]))\\nthumbnail.resize((frame_size[0], frame_size[1]))\\nthumbnail\\n\""
      ]
     },
     "execution_count": 5,
     "metadata": {},
     "output_type": "execute_result"
    }
   ],
   "source": [
    "'''\n",
    "from PIL import Image\n",
    "thumbnail_index = list()\n",
    "for refer in ['reading a book', 'eating food', 'green santa', 'washing hand']:\n",
    "    sims = similarity_for_thumbnail(result_dict, method = 'mean', refer = refer)\n",
    "    thumbnail_index.append(sims.index(max(sims)))\n",
    "\n",
    "thumbnail_list = [PIL_list[i] for i in thumbnail_index]\n",
    "thumbnail = Image.new('RGB', (frame_size[0]*2 , frame_size[1]*2))\n",
    "thumbnail.paste(thumbnail_list[0], (0, 0))\n",
    "thumbnail.paste(thumbnail_list[1], (frame_size[0], 0))\n",
    "thumbnail.paste(thumbnail_list[2], (0, frame_size[1]))\n",
    "thumbnail.paste(thumbnail_list[3], (frame_size[0], frame_size[1]))\n",
    "thumbnail.resize((frame_size[0], frame_size[1]))\n",
    "thumbnail\n",
    "'''"
   ]
  },
  {
   "cell_type": "code",
   "execution_count": 6,
   "id": "71d66798",
   "metadata": {},
   "outputs": [
    {
     "name": "stdout",
     "output_type": "stream",
     "text": [
      "12\n"
     ]
    },
    {
     "data": {
      "image/png": "[encoded data removed]",
      "text/plain": [
       "<Figure size 432x288 with 1 Axes>"
      ]
     },
     "metadata": {
      "needs_background": "light"
     },
     "output_type": "display_data"
    }
   ],
   "source": [
    "sim_dict = similarity(refined, method = 'mean')\n",
    "import scipy\n",
    "import matplotlib.pyplot as plt\n",
    "a = [-i[-1] for i in sim_dict.values()]\n",
    "plt.plot(a)\n",
    "peaks_point, _ = scipy.signal.find_peaks(x = a, distance = 2)\n",
    "for x in peaks_point:\n",
    "    plt.plot(x, a[x], marker=\"o\", markersize=5, markeredgecolor=\"red\", markerfacecolor=\"red\")\n",
    "print(len(peaks_point))\n"
   ]
  },
  {
   "cell_type": "code",
   "execution_count": 7,
   "id": "0f919c44",
   "metadata": {},
   "outputs": [
    {
     "name": "stdout",
     "output_type": "stream",
     "text": [
      "['an empty subway station', 0.0, '텅 빈 지하철역', '빈 지하철역이네요.', '지하철. 빈번함.', '텅 빈 지하철역이지~', '텅ᄋ 걍 쟈철임', '텅ᄋ 빈 지하철', '텅ᄋ...텅빈 지하철역이야...(⊙_⊙;)', '텅ᄋ텅빈 지하철역이야 ᄒᄒ', '텅 빈 지하철입니다.', '텅...텅빈 지하철역이라네...', '텅 빈 지하철역이라구', '텅텅빈 지하철 역임 왜', '참으로 빈빈한 역이오.', '텅ᄋ...텅빈 지하철역이라니깐...', '텅ᄋ...텅빈 지하철역인 것이오...', '텅텅빈 지하철이야..']\n"
     ]
    },
    {
     "data": {
      "text/html": [
       "<div>\n",
       "<style scoped>\n",
       "    .dataframe tbody tr th:only-of-type {\n",
       "        vertical-align: middle;\n",
       "    }\n",
       "\n",
       "    .dataframe tbody tr th {\n",
       "        vertical-align: top;\n",
       "    }\n",
       "\n",
       "    .dataframe thead th {\n",
       "        text-align: right;\n",
       "    }\n",
       "</style>\n",
       "<table border=\"1\" class=\"dataframe\">\n",
       "  <thead>\n",
       "    <tr style=\"text-align: right;\">\n",
       "      <th></th>\n",
       "      <th>en</th>\n",
       "      <th>similarity</th>\n",
       "      <th>ko</th>\n",
       "      <th>formal</th>\n",
       "      <th>android</th>\n",
       "      <th>azae</th>\n",
       "      <th>chat</th>\n",
       "      <th>choding</th>\n",
       "      <th>emoticon</th>\n",
       "      <th>enfp</th>\n",
       "      <th>gentle</th>\n",
       "      <th>halbae</th>\n",
       "      <th>halmae</th>\n",
       "      <th>joongding</th>\n",
       "      <th>king</th>\n",
       "      <th>naruto</th>\n",
       "      <th>seonbi</th>\n",
       "      <th>sosim</th>\n",
       "      <th>frame</th>\n",
       "    </tr>\n",
       "  </thead>\n",
       "  <tbody>\n",
       "    <tr>\n",
       "      <th>0</th>\n",
       "      <td>an empty subway station</td>\n",
       "      <td>0.0</td>\n",
       "      <td>텅 빈 지하철역</td>\n",
       "      <td>빈 지하철역이네요.</td>\n",
       "      <td>지하철. 빈번함.</td>\n",
       "      <td>텅 빈 지하철역이지~</td>\n",
       "      <td>텅ᄋ 걍 쟈철임</td>\n",
       "      <td>텅ᄋ 빈 지하철</td>\n",
       "      <td>텅ᄋ...텅빈 지하철역이야...(⊙_⊙;)</td>\n",
       "      <td>텅ᄋ텅빈 지하철역이야 ᄒᄒ</td>\n",
       "      <td>텅 빈 지하철입니다.</td>\n",
       "      <td>텅...텅빈 지하철역이라네...</td>\n",
       "      <td>텅 빈 지하철역이라구</td>\n",
       "      <td>텅텅빈 지하철 역임 왜</td>\n",
       "      <td>참으로 빈빈한 역이오.</td>\n",
       "      <td>텅ᄋ...텅빈 지하철역이라니깐...</td>\n",
       "      <td>텅ᄋ...텅빈 지하철역인 것이오...</td>\n",
       "      <td>텅텅빈 지하철이야..</td>\n",
       "      <td>0</td>\n",
       "    </tr>\n",
       "    <tr>\n",
       "      <th>1</th>\n",
       "      <td>an empty subway station</td>\n",
       "      <td>0.0</td>\n",
       "      <td>텅 빈 지하철역</td>\n",
       "      <td>빈 지하철역이네요.</td>\n",
       "      <td>지하철. 빈번함.</td>\n",
       "      <td>텅 빈 지하철역이지~</td>\n",
       "      <td>텅ᄋ 걍 쟈철임</td>\n",
       "      <td>텅ᄋ 빈 지하철</td>\n",
       "      <td>텅ᄋ...텅빈 지하철역이야...(⊙_⊙;)</td>\n",
       "      <td>텅ᄋ텅빈 지하철역이야 ᄒᄒ</td>\n",
       "      <td>텅 빈 지하철입니다.</td>\n",
       "      <td>텅...텅빈 지하철역이라네...</td>\n",
       "      <td>텅 빈 지하철역이라구</td>\n",
       "      <td>텅텅빈 지하철 역임 왜</td>\n",
       "      <td>참으로 빈빈한 역이오.</td>\n",
       "      <td>텅ᄋ...텅빈 지하철역이라니깐...</td>\n",
       "      <td>텅ᄋ...텅빈 지하철역인 것이오...</td>\n",
       "      <td>텅텅빈 지하철이야..</td>\n",
       "      <td>1</td>\n",
       "    </tr>\n",
       "  </tbody>\n",
       "</table>\n",
       "</div>"
      ],
      "text/plain": [
       "                        en  similarity        ko      formal    android  \\\n",
       "0  an empty subway station         0.0  텅 빈 지하철역  빈 지하철역이네요.  지하철. 빈번함.   \n",
       "1  an empty subway station         0.0  텅 빈 지하철역  빈 지하철역이네요.  지하철. 빈번함.   \n",
       "\n",
       "          azae      chat   choding                 emoticon            enfp  \\\n",
       "0  텅 빈 지하철역이지~  텅ᄋ 걍 쟈철임  텅ᄋ 빈 지하철  텅ᄋ...텅빈 지하철역이야...(⊙_⊙;)  텅ᄋ텅빈 지하철역이야 ᄒᄒ   \n",
       "1  텅 빈 지하철역이지~  텅ᄋ 걍 쟈철임  텅ᄋ 빈 지하철  텅ᄋ...텅빈 지하철역이야...(⊙_⊙;)  텅ᄋ텅빈 지하철역이야 ᄒᄒ   \n",
       "\n",
       "        gentle             halbae       halmae     joongding          king  \\\n",
       "0  텅 빈 지하철입니다.  텅...텅빈 지하철역이라네...  텅 빈 지하철역이라구  텅텅빈 지하철 역임 왜  참으로 빈빈한 역이오.   \n",
       "1  텅 빈 지하철입니다.  텅...텅빈 지하철역이라네...  텅 빈 지하철역이라구  텅텅빈 지하철 역임 왜  참으로 빈빈한 역이오.   \n",
       "\n",
       "                naruto                seonbi        sosim  frame  \n",
       "0  텅ᄋ...텅빈 지하철역이라니깐...  텅ᄋ...텅빈 지하철역인 것이오...  텅텅빈 지하철이야..      0  \n",
       "1  텅ᄋ...텅빈 지하철역이라니깐...  텅ᄋ...텅빈 지하철역인 것이오...  텅텅빈 지하철이야..      1  "
      ]
     },
     "execution_count": 7,
     "metadata": {},
     "output_type": "execute_result"
    }
   ],
   "source": [
    "\n",
    "peaks = [list(sim_dict.keys())[i] for i in peaks_point]\n",
    "eliminated = eliminate_by_peaks(sim_dict, peaks)\n",
    "translated = translate(eliminated.copy())\n",
    "styled_dict = style_transfer(translated.copy(), styles)\n",
    "dataframe = make_dataframe(styled_dict.copy(), total_frames)\n",
    "print(styled_dict[0])\n",
    "dataframe.head(2)"
   ]
  },
  {
   "cell_type": "code",
   "execution_count": 14,
   "id": "387e3edf",
   "metadata": {},
   "outputs": [],
   "source": [
    "from vlog import put_text_with_box"
   ]
  },
  {
   "cell_type": "code",
   "execution_count": 15,
   "id": "aa3400e4",
   "metadata": {},
   "outputs": [],
   "source": [
    "def make_video(video_dir, out_dir, dataframe, frame_size, style):\n",
    "    dataframe = dataframe.iterrows()\n",
    "    print('making video ...', end = '')\n",
    "    def pipeline(frame):\n",
    "        try:\n",
    "            texts = next(dataframe)[1]\n",
    "            frame = put_text_with_box(image_numpy = frame, text = str(texts.en), location = (80, frame_size[1]-150))\n",
    "            frame = put_text_with_box(image_numpy = frame, text = str(texts.chat), location = (80, frame_size[1]-50))\n",
    "            #cv2.putText(frame, str(next(dataframe)[1].sentence), (80, 700), cv2.FONT_HERSHEY_SIMPLEX, 1, (0, 0, 0), 3, cv2.LINE_8, False)\n",
    "\n",
    "        except StopIteration:\n",
    "            pass\n",
    "        # additional frame manipulation\n",
    "        return frame\n",
    "\n",
    "    video = VideoFileClip(video_dir)\n",
    "    out_video = video.fl_image(pipeline)\n",
    "    out_video.write_videofile(out_dir, audio=True)\n",
    "    print(f'done, see {out_dir}')"
   ]
  },
  {
   "cell_type": "code",
   "execution_count": 16,
   "id": "7325025e",
   "metadata": {},
   "outputs": [
    {
     "name": "stdout",
     "output_type": "stream",
     "text": [
      "making video ...Moviepy - Building video final.mp4.\n",
      "MoviePy - Writing audio in finalTEMP_MPY_wvf_snd.mp3\n"
     ]
    },
    {
     "name": "stderr",
     "output_type": "stream",
     "text": [
      "                                                                      \r"
     ]
    },
    {
     "name": "stdout",
     "output_type": "stream",
     "text": [
      "MoviePy - Done.\n",
      "Moviepy - Writing video final.mp4\n",
      "\n"
     ]
    },
    {
     "name": "stderr",
     "output_type": "stream",
     "text": [
      "                                                                \r"
     ]
    },
    {
     "name": "stdout",
     "output_type": "stream",
     "text": [
      "Moviepy - Done !\n",
      "Moviepy - video ready final.mp4\n",
      "done, see final.mp4\n"
     ]
    }
   ],
   "source": [
    "import cv2\n",
    "import matplotlib.pyplot as plt\n",
    "import numpy as np\n",
    "import torch\n",
    "import os\n",
    "from moviepy.editor import VideoFileClip, concatenate_videoclips\n",
    "from PIL import Image, ImageFont, ImageDraw\n",
    "from torchvision import transforms\n",
    "from torchvision.transforms.functional import InterpolationMode\n",
    "from tqdm import tqdm\n",
    "from models.blip import blip_decoder\n",
    "import pandas as pd\n",
    "from googletrans import Translator\n",
    "\n",
    "make_video( video_dir = 'temp.mp4',\n",
    "            out_dir = 'final.mp4',\n",
    "            dataframe = dataframe,\n",
    "            frame_size = frame_size,\n",
    "            style = 'emoticon') # no matter\n",
    "\n"
   ]
  },
  {
   "cell_type": "code",
   "execution_count": null,
   "id": "7a2d7854",
   "metadata": {},
   "outputs": [],
   "source": []
  },
  {
   "cell_type": "code",
   "execution_count": null,
   "id": "438f7ac2",
   "metadata": {},
   "outputs": [],
   "source": []
  }
 ],
 "metadata": {
  "kernelspec": {
   "display_name": "blip",
   "language": "python",
   "name": "python3"
  },
  "language_info": {
   "codemirror_mode": {
    "name": "ipython",
    "version": 3
   },
   "file_extension": ".py",
   "mimetype": "text/x-python",
   "name": "python",
   "nbconvert_exporter": "python",
   "pygments_lexer": "ipython3",
   "version": "3.8.13"
  },
  "vscode": {
   "interpreter": {
    "hash": "dda187d9c3bfc6e8f3862db56fc5483c467cc86caeabb3b36d8f8cf80bd2d8b7"
   }
  }
 },
 "nbformat": 4,
 "nbformat_minor": 5
}
